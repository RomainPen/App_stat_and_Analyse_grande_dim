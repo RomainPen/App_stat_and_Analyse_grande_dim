{
 "cells": [
  {
   "cell_type": "raw",
   "id": "2f5bcb79",
   "metadata": {},
   "source": [
    "hyper-param :\n",
    "- loss\n",
    "- alpha\n",
    "- learning_rate\n",
    "- n_estimators\n",
    "- subsample\n",
    "- init (blc)\n",
    "- verbose (info sur la création du modele)\n",
    "- warm_start (bool)\n",
    "- random_state \n",
    "- n_iter_no_change\n",
    "- validation_fraction\n",
    "- tol\n",
    "\n",
    "hyper-param de la foret :\n",
    "-criterion\n",
    "-min_samples_split\n",
    "-min_samples_leaf\n",
    "- min_weight_fraction_leaf\n",
    "- max_depth\n",
    "- min_impurity_decrease (blc)\n",
    "- max_features\n",
    "- max_leaf_nodes\n",
    "- ccp_alpha"
   ]
  }
 ],
 "metadata": {
  "kernelspec": {
   "display_name": "Python 3 (ipykernel)",
   "language": "python",
   "name": "python3"
  },
  "language_info": {
   "codemirror_mode": {
    "name": "ipython",
    "version": 3
   },
   "file_extension": ".py",
   "mimetype": "text/x-python",
   "name": "python",
   "nbconvert_exporter": "python",
   "pygments_lexer": "ipython3",
   "version": "3.9.12"
  }
 },
 "nbformat": 4,
 "nbformat_minor": 5
}

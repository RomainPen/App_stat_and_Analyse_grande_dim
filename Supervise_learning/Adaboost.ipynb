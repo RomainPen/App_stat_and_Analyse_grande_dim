{
 "cells": [
  {
   "cell_type": "raw",
   "id": "06c42f9f",
   "metadata": {},
   "source": [
    "hyper-param :\n",
    "- base_estimator\n",
    "- n_estimators\n",
    "- learning_rate\n",
    "- algorithm\n",
    "- random_state"
   ]
  }
 ],
 "metadata": {
  "kernelspec": {
   "display_name": "Python 3 (ipykernel)",
   "language": "python",
   "name": "python3"
  },
  "language_info": {
   "codemirror_mode": {
    "name": "ipython",
    "version": 3
   },
   "file_extension": ".py",
   "mimetype": "text/x-python",
   "name": "python",
   "nbconvert_exporter": "python",
   "pygments_lexer": "ipython3",
   "version": "3.9.12"
  }
 },
 "nbformat": 4,
 "nbformat_minor": 5
}

{
 "cells": [
  {
   "cell_type": "code",
   "execution_count": 1,
   "id": "ce90cd2d",
   "metadata": {},
   "outputs": [
    {
     "name": "stderr",
     "output_type": "stream",
     "text": [
      "[NbConvertApp] Converting notebook SGD.ipynb to notebook\n",
      "[NbConvertApp] Writing 12651 bytes to SGD.ipynb\n"
     ]
    }
   ],
   "source": [
    "!jupyter nbconvert --clear-output --to notebook --output=SGD SGD.ipynb"
   ]
  },
  {
   "cell_type": "code",
   "execution_count": 1,
   "id": "b379a9bd",
   "metadata": {},
   "outputs": [
    {
     "name": "stdout",
     "output_type": "stream",
     "text": [
      "psutil:          6 CPUs PHYSICAL\n",
      "psutil:          12 CPUs LOGICAL\n"
     ]
    }
   ],
   "source": [
    "import psutil;                  print( \"{0:17s}{1:} CPUs PHYSICAL\".format(\n",
    "      \"psutil:\",\n",
    "       psutil.cpu_count( logical = False ) ) )\n",
    "pass;                           print( \"{0:17s}{1:} CPUs LOGICAL\".format(\n",
    "      \"psutil:\",\n",
    "       psutil.cpu_count( logical = True  ) ) )"
   ]
  },
  {
   "cell_type": "code",
   "execution_count": null,
   "id": "4ed3c457",
   "metadata": {},
   "outputs": [],
   "source": []
  }
 ],
 "metadata": {
  "kernelspec": {
   "display_name": "Python 3 (ipykernel)",
   "language": "python",
   "name": "python3"
  },
  "language_info": {
   "codemirror_mode": {
    "name": "ipython",
    "version": 3
   },
   "file_extension": ".py",
   "mimetype": "text/x-python",
   "name": "python",
   "nbconvert_exporter": "python",
   "pygments_lexer": "ipython3",
   "version": "3.9.12"
  }
 },
 "nbformat": 4,
 "nbformat_minor": 5
}
